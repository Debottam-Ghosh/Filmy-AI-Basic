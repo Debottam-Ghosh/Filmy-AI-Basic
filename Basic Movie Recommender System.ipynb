{
 "cells": [
  {
   "cell_type": "markdown",
   "id": "3362cd63-08e3-48c5-8d0b-82e9a46074e8",
   "metadata": {},
   "source": [
    "### Importing Initial Libraries"
   ]
  },
  {
   "cell_type": "code",
   "execution_count": 114,
   "id": "049c317b-756e-4b62-bf48-dcdf79a70e14",
   "metadata": {},
   "outputs": [],
   "source": [
    "import numpy as np\n",
    "import pandas as pd"
   ]
  },
  {
   "cell_type": "markdown",
   "id": "26d14e64-e6a9-47ee-8bf4-0d82cc3b08fb",
   "metadata": {},
   "source": [
    "### Reading CSV Files"
   ]
  },
  {
   "cell_type": "code",
   "execution_count": 116,
   "id": "b2b60048-6816-474f-b547-66844b113b04",
   "metadata": {},
   "outputs": [],
   "source": [
    "movies = pd.read_csv(\"tmdb_5000_movies.csv\")\n",
    "credits = pd.read_csv(\"tmdb_5000_credits.csv\")"
   ]
  },
  {
   "cell_type": "markdown",
   "id": "19e712f4-7de4-4aea-b15f-d161dc72c913",
   "metadata": {},
   "source": [
    "### Viewing 'movies' Head"
   ]
  },
  {
   "cell_type": "code",
   "execution_count": 118,
   "id": "364045d0-89ce-4503-83c1-d9ed48cc3323",
   "metadata": {},
   "outputs": [
    {
     "data": {
      "text/html": [
       "<div>\n",
       "<style scoped>\n",
       "    .dataframe tbody tr th:only-of-type {\n",
       "        vertical-align: middle;\n",
       "    }\n",
       "\n",
       "    .dataframe tbody tr th {\n",
       "        vertical-align: top;\n",
       "    }\n",
       "\n",
       "    .dataframe thead th {\n",
       "        text-align: right;\n",
       "    }\n",
       "</style>\n",
       "<table border=\"1\" class=\"dataframe\">\n",
       "  <thead>\n",
       "    <tr style=\"text-align: right;\">\n",
       "      <th></th>\n",
       "      <th>budget</th>\n",
       "      <th>genres</th>\n",
       "      <th>homepage</th>\n",
       "      <th>id</th>\n",
       "      <th>keywords</th>\n",
       "      <th>original_language</th>\n",
       "      <th>original_title</th>\n",
       "      <th>overview</th>\n",
       "      <th>popularity</th>\n",
       "      <th>production_companies</th>\n",
       "      <th>production_countries</th>\n",
       "      <th>release_date</th>\n",
       "      <th>revenue</th>\n",
       "      <th>runtime</th>\n",
       "      <th>spoken_languages</th>\n",
       "      <th>status</th>\n",
       "      <th>tagline</th>\n",
       "      <th>title</th>\n",
       "      <th>vote_average</th>\n",
       "      <th>vote_count</th>\n",
       "    </tr>\n",
       "  </thead>\n",
       "  <tbody>\n",
       "    <tr>\n",
       "      <th>0</th>\n",
       "      <td>237000000</td>\n",
       "      <td>[{\"id\": 28, \"name\": \"Action\"}, {\"id\": 12, \"nam...</td>\n",
       "      <td>http://www.avatarmovie.com/</td>\n",
       "      <td>19995</td>\n",
       "      <td>[{\"id\": 1463, \"name\": \"culture clash\"}, {\"id\":...</td>\n",
       "      <td>en</td>\n",
       "      <td>Avatar</td>\n",
       "      <td>In the 22nd century, a paraplegic Marine is di...</td>\n",
       "      <td>150.437577</td>\n",
       "      <td>[{\"name\": \"Ingenious Film Partners\", \"id\": 289...</td>\n",
       "      <td>[{\"iso_3166_1\": \"US\", \"name\": \"United States o...</td>\n",
       "      <td>2009-12-10</td>\n",
       "      <td>2787965087</td>\n",
       "      <td>162.0</td>\n",
       "      <td>[{\"iso_639_1\": \"en\", \"name\": \"English\"}, {\"iso...</td>\n",
       "      <td>Released</td>\n",
       "      <td>Enter the World of Pandora.</td>\n",
       "      <td>Avatar</td>\n",
       "      <td>7.2</td>\n",
       "      <td>11800</td>\n",
       "    </tr>\n",
       "  </tbody>\n",
       "</table>\n",
       "</div>"
      ],
      "text/plain": [
       "      budget                                             genres  \\\n",
       "0  237000000  [{\"id\": 28, \"name\": \"Action\"}, {\"id\": 12, \"nam...   \n",
       "\n",
       "                      homepage     id  \\\n",
       "0  http://www.avatarmovie.com/  19995   \n",
       "\n",
       "                                            keywords original_language  \\\n",
       "0  [{\"id\": 1463, \"name\": \"culture clash\"}, {\"id\":...                en   \n",
       "\n",
       "  original_title                                           overview  \\\n",
       "0         Avatar  In the 22nd century, a paraplegic Marine is di...   \n",
       "\n",
       "   popularity                               production_companies  \\\n",
       "0  150.437577  [{\"name\": \"Ingenious Film Partners\", \"id\": 289...   \n",
       "\n",
       "                                production_countries release_date     revenue  \\\n",
       "0  [{\"iso_3166_1\": \"US\", \"name\": \"United States o...   2009-12-10  2787965087   \n",
       "\n",
       "   runtime                                   spoken_languages    status  \\\n",
       "0    162.0  [{\"iso_639_1\": \"en\", \"name\": \"English\"}, {\"iso...  Released   \n",
       "\n",
       "                       tagline   title  vote_average  vote_count  \n",
       "0  Enter the World of Pandora.  Avatar           7.2       11800  "
      ]
     },
     "execution_count": 118,
     "metadata": {},
     "output_type": "execute_result"
    }
   ],
   "source": [
    "movies.head(1)"
   ]
  },
  {
   "cell_type": "markdown",
   "id": "0e75d23d-de5d-48a6-bbd7-5988d699b3a7",
   "metadata": {},
   "source": [
    "### Viewing 'credits' Head"
   ]
  },
  {
   "cell_type": "code",
   "execution_count": 120,
   "id": "138d3b9b-6c6b-465d-b8e9-dfae861162ba",
   "metadata": {},
   "outputs": [
    {
     "data": {
      "text/html": [
       "<div>\n",
       "<style scoped>\n",
       "    .dataframe tbody tr th:only-of-type {\n",
       "        vertical-align: middle;\n",
       "    }\n",
       "\n",
       "    .dataframe tbody tr th {\n",
       "        vertical-align: top;\n",
       "    }\n",
       "\n",
       "    .dataframe thead th {\n",
       "        text-align: right;\n",
       "    }\n",
       "</style>\n",
       "<table border=\"1\" class=\"dataframe\">\n",
       "  <thead>\n",
       "    <tr style=\"text-align: right;\">\n",
       "      <th></th>\n",
       "      <th>movie_id</th>\n",
       "      <th>title</th>\n",
       "      <th>cast</th>\n",
       "      <th>crew</th>\n",
       "    </tr>\n",
       "  </thead>\n",
       "  <tbody>\n",
       "    <tr>\n",
       "      <th>0</th>\n",
       "      <td>19995</td>\n",
       "      <td>Avatar</td>\n",
       "      <td>[{\"cast_id\": 242, \"character\": \"Jake Sully\", \"...</td>\n",
       "      <td>[{\"credit_id\": \"52fe48009251416c750aca23\", \"de...</td>\n",
       "    </tr>\n",
       "  </tbody>\n",
       "</table>\n",
       "</div>"
      ],
      "text/plain": [
       "   movie_id   title                                               cast  \\\n",
       "0     19995  Avatar  [{\"cast_id\": 242, \"character\": \"Jake Sully\", \"...   \n",
       "\n",
       "                                                crew  \n",
       "0  [{\"credit_id\": \"52fe48009251416c750aca23\", \"de...  "
      ]
     },
     "execution_count": 120,
     "metadata": {},
     "output_type": "execute_result"
    }
   ],
   "source": [
    "credits.head(1)"
   ]
  },
  {
   "cell_type": "markdown",
   "id": "4dae8533-016c-4c05-95fc-bc3d86e63ef8",
   "metadata": {},
   "source": [
    "### Merging 'movies' with 'credits' based on the title column"
   ]
  },
  {
   "cell_type": "code",
   "execution_count": 122,
   "id": "cb70a3d2-3c1f-4416-b20e-a3a1985c4528",
   "metadata": {},
   "outputs": [],
   "source": [
    "movies = movies.merge(credits, on='title')"
   ]
  },
  {
   "cell_type": "markdown",
   "id": "3fb67885-de02-431e-8843-4ba07c203fdc",
   "metadata": {},
   "source": [
    "### Viewing Merged Dataset ('movies')'s Head"
   ]
  },
  {
   "cell_type": "code",
   "execution_count": 124,
   "id": "8d8dea2f-5e10-4ef4-bac0-90a4cdbc218d",
   "metadata": {},
   "outputs": [
    {
     "data": {
      "text/html": [
       "<div>\n",
       "<style scoped>\n",
       "    .dataframe tbody tr th:only-of-type {\n",
       "        vertical-align: middle;\n",
       "    }\n",
       "\n",
       "    .dataframe tbody tr th {\n",
       "        vertical-align: top;\n",
       "    }\n",
       "\n",
       "    .dataframe thead th {\n",
       "        text-align: right;\n",
       "    }\n",
       "</style>\n",
       "<table border=\"1\" class=\"dataframe\">\n",
       "  <thead>\n",
       "    <tr style=\"text-align: right;\">\n",
       "      <th></th>\n",
       "      <th>budget</th>\n",
       "      <th>genres</th>\n",
       "      <th>homepage</th>\n",
       "      <th>id</th>\n",
       "      <th>keywords</th>\n",
       "      <th>original_language</th>\n",
       "      <th>original_title</th>\n",
       "      <th>overview</th>\n",
       "      <th>popularity</th>\n",
       "      <th>production_companies</th>\n",
       "      <th>...</th>\n",
       "      <th>runtime</th>\n",
       "      <th>spoken_languages</th>\n",
       "      <th>status</th>\n",
       "      <th>tagline</th>\n",
       "      <th>title</th>\n",
       "      <th>vote_average</th>\n",
       "      <th>vote_count</th>\n",
       "      <th>movie_id</th>\n",
       "      <th>cast</th>\n",
       "      <th>crew</th>\n",
       "    </tr>\n",
       "  </thead>\n",
       "  <tbody>\n",
       "    <tr>\n",
       "      <th>0</th>\n",
       "      <td>237000000</td>\n",
       "      <td>[{\"id\": 28, \"name\": \"Action\"}, {\"id\": 12, \"nam...</td>\n",
       "      <td>http://www.avatarmovie.com/</td>\n",
       "      <td>19995</td>\n",
       "      <td>[{\"id\": 1463, \"name\": \"culture clash\"}, {\"id\":...</td>\n",
       "      <td>en</td>\n",
       "      <td>Avatar</td>\n",
       "      <td>In the 22nd century, a paraplegic Marine is di...</td>\n",
       "      <td>150.437577</td>\n",
       "      <td>[{\"name\": \"Ingenious Film Partners\", \"id\": 289...</td>\n",
       "      <td>...</td>\n",
       "      <td>162.0</td>\n",
       "      <td>[{\"iso_639_1\": \"en\", \"name\": \"English\"}, {\"iso...</td>\n",
       "      <td>Released</td>\n",
       "      <td>Enter the World of Pandora.</td>\n",
       "      <td>Avatar</td>\n",
       "      <td>7.2</td>\n",
       "      <td>11800</td>\n",
       "      <td>19995</td>\n",
       "      <td>[{\"cast_id\": 242, \"character\": \"Jake Sully\", \"...</td>\n",
       "      <td>[{\"credit_id\": \"52fe48009251416c750aca23\", \"de...</td>\n",
       "    </tr>\n",
       "  </tbody>\n",
       "</table>\n",
       "<p>1 rows × 23 columns</p>\n",
       "</div>"
      ],
      "text/plain": [
       "      budget                                             genres  \\\n",
       "0  237000000  [{\"id\": 28, \"name\": \"Action\"}, {\"id\": 12, \"nam...   \n",
       "\n",
       "                      homepage     id  \\\n",
       "0  http://www.avatarmovie.com/  19995   \n",
       "\n",
       "                                            keywords original_language  \\\n",
       "0  [{\"id\": 1463, \"name\": \"culture clash\"}, {\"id\":...                en   \n",
       "\n",
       "  original_title                                           overview  \\\n",
       "0         Avatar  In the 22nd century, a paraplegic Marine is di...   \n",
       "\n",
       "   popularity                               production_companies  ... runtime  \\\n",
       "0  150.437577  [{\"name\": \"Ingenious Film Partners\", \"id\": 289...  ...   162.0   \n",
       "\n",
       "                                    spoken_languages    status  \\\n",
       "0  [{\"iso_639_1\": \"en\", \"name\": \"English\"}, {\"iso...  Released   \n",
       "\n",
       "                       tagline   title vote_average vote_count movie_id  \\\n",
       "0  Enter the World of Pandora.  Avatar          7.2      11800    19995   \n",
       "\n",
       "                                                cast  \\\n",
       "0  [{\"cast_id\": 242, \"character\": \"Jake Sully\", \"...   \n",
       "\n",
       "                                                crew  \n",
       "0  [{\"credit_id\": \"52fe48009251416c750aca23\", \"de...  \n",
       "\n",
       "[1 rows x 23 columns]"
      ]
     },
     "execution_count": 124,
     "metadata": {},
     "output_type": "execute_result"
    }
   ],
   "source": [
    "movies.head(1)"
   ]
  },
  {
   "cell_type": "markdown",
   "id": "2bc01318-3763-4cd5-9a17-6a4f0330f168",
   "metadata": {},
   "source": [
    "### Checking 'movies' Info"
   ]
  },
  {
   "cell_type": "code",
   "execution_count": 126,
   "id": "e9b85fcc-1cc4-452e-ae38-71a1a4895bdc",
   "metadata": {},
   "outputs": [
    {
     "name": "stdout",
     "output_type": "stream",
     "text": [
      "<class 'pandas.core.frame.DataFrame'>\n",
      "RangeIndex: 4809 entries, 0 to 4808\n",
      "Data columns (total 23 columns):\n",
      " #   Column                Non-Null Count  Dtype  \n",
      "---  ------                --------------  -----  \n",
      " 0   budget                4809 non-null   int64  \n",
      " 1   genres                4809 non-null   object \n",
      " 2   homepage              1713 non-null   object \n",
      " 3   id                    4809 non-null   int64  \n",
      " 4   keywords              4809 non-null   object \n",
      " 5   original_language     4809 non-null   object \n",
      " 6   original_title        4809 non-null   object \n",
      " 7   overview              4806 non-null   object \n",
      " 8   popularity            4809 non-null   float64\n",
      " 9   production_companies  4809 non-null   object \n",
      " 10  production_countries  4809 non-null   object \n",
      " 11  release_date          4808 non-null   object \n",
      " 12  revenue               4809 non-null   int64  \n",
      " 13  runtime               4807 non-null   float64\n",
      " 14  spoken_languages      4809 non-null   object \n",
      " 15  status                4809 non-null   object \n",
      " 16  tagline               3965 non-null   object \n",
      " 17  title                 4809 non-null   object \n",
      " 18  vote_average          4809 non-null   float64\n",
      " 19  vote_count            4809 non-null   int64  \n",
      " 20  movie_id              4809 non-null   int64  \n",
      " 21  cast                  4809 non-null   object \n",
      " 22  crew                  4809 non-null   object \n",
      "dtypes: float64(3), int64(5), object(15)\n",
      "memory usage: 864.2+ KB\n"
     ]
    }
   ],
   "source": [
    "movies.info()"
   ]
  },
  {
   "cell_type": "markdown",
   "id": "8f103baa-c80e-485d-8ff7-8b27174b0fea",
   "metadata": {},
   "source": [
    "### Checking 'original language' value counts"
   ]
  },
  {
   "cell_type": "code",
   "execution_count": 128,
   "id": "9eaf001c-c555-4d1a-912a-95c44f7fc6b3",
   "metadata": {},
   "outputs": [
    {
     "data": {
      "image/png": "[encoded data removed]",
      "text/plain": [
       "<Figure size 800x800 with 1 Axes>"
      ]
     },
     "metadata": {},
     "output_type": "display_data"
    }
   ],
   "source": [
    "import matplotlib.pyplot as plt\n",
    "\n",
    "# Count the occurrences of each language\n",
    "language_counts = movies['original_language'].value_counts()\n",
    "\n",
    "# Plot as a pie chart\n",
    "plt.figure(figsize=(8, 8))\n",
    "plt.pie(language_counts, labels=language_counts.index, autopct='%1.1f%%', startangle=140)\n",
    "plt.title('Distribution of Movies by Original Language')\n",
    "plt.axis('equal')  # Equal aspect ratio ensures the pie chart is circular.\n",
    "plt.show()"
   ]
  },
  {
   "cell_type": "markdown",
   "id": "65360781-b701-4216-a05a-40eb014f826c",
   "metadata": {},
   "source": [
    "### ✤ Conclusion: \n",
    "Almost 94% of the movies are in English Language so the data is extremly skewed with respect to language. So we will not consider the feature."
   ]
  },
  {
   "cell_type": "markdown",
   "id": "5fd63160-36a7-4a88-ba13-e000062b1957",
   "metadata": {},
   "source": [
    "#### ✦ Deciding which columns are useful and which are not based on domain understanding \n",
    "𝟏. 𝐠𝐞𝐧𝐫𝐞𝐬:\n",
    "<br>\n",
    "𝟐. 𝐢𝐝:\n",
    "<br>\n",
    "𝟑. 𝐤𝐞𝐲𝐰𝐨𝐫𝐝𝐬:\n",
    "<br>\n",
    "𝟒. 𝐭𝐢𝐭𝐥𝐞:\n",
    "<br>\n",
    "𝟓. 𝐨𝐯𝐞𝐫𝐯𝐢𝐞𝐰:\n",
    "<br>\n",
    "𝟔. 𝐜𝐚𝐬𝐭:\n",
    "<br>\n",
    "𝟕. 𝐜𝐫𝐞𝐰:"
   ]
  },
  {
   "cell_type": "code",
   "execution_count": 131,
   "id": "3518eeb1-70ba-4fc0-a110-325293246e5c",
   "metadata": {},
   "outputs": [],
   "source": [
    "movies = movies[['id','title','genres','keywords','overview','cast','crew']]"
   ]
  },
  {
   "cell_type": "code",
   "execution_count": 132,
   "id": "c373e640-7325-4121-a3ea-0fa2a452880a",
   "metadata": {},
   "outputs": [
    {
     "data": {
      "text/html": [
       "<div>\n",
       "<style scoped>\n",
       "    .dataframe tbody tr th:only-of-type {\n",
       "        vertical-align: middle;\n",
       "    }\n",
       "\n",
       "    .dataframe tbody tr th {\n",
       "        vertical-align: top;\n",
       "    }\n",
       "\n",
       "    .dataframe thead th {\n",
       "        text-align: right;\n",
       "    }\n",
       "</style>\n",
       "<table border=\"1\" class=\"dataframe\">\n",
       "  <thead>\n",
       "    <tr style=\"text-align: right;\">\n",
       "      <th></th>\n",
       "      <th>id</th>\n",
       "      <th>title</th>\n",
       "      <th>genres</th>\n",
       "      <th>keywords</th>\n",
       "      <th>overview</th>\n",
       "      <th>cast</th>\n",
       "      <th>crew</th>\n",
       "    </tr>\n",
       "  </thead>\n",
       "  <tbody>\n",
       "    <tr>\n",
       "      <th>0</th>\n",
       "      <td>19995</td>\n",
       "      <td>Avatar</td>\n",
       "      <td>[{\"id\": 28, \"name\": \"Action\"}, {\"id\": 12, \"nam...</td>\n",
       "      <td>[{\"id\": 1463, \"name\": \"culture clash\"}, {\"id\":...</td>\n",
       "      <td>In the 22nd century, a paraplegic Marine is di...</td>\n",
       "      <td>[{\"cast_id\": 242, \"character\": \"Jake Sully\", \"...</td>\n",
       "      <td>[{\"credit_id\": \"52fe48009251416c750aca23\", \"de...</td>\n",
       "    </tr>\n",
       "  </tbody>\n",
       "</table>\n",
       "</div>"
      ],
      "text/plain": [
       "      id   title                                             genres  \\\n",
       "0  19995  Avatar  [{\"id\": 28, \"name\": \"Action\"}, {\"id\": 12, \"nam...   \n",
       "\n",
       "                                            keywords  \\\n",
       "0  [{\"id\": 1463, \"name\": \"culture clash\"}, {\"id\":...   \n",
       "\n",
       "                                            overview  \\\n",
       "0  In the 22nd century, a paraplegic Marine is di...   \n",
       "\n",
       "                                                cast  \\\n",
       "0  [{\"cast_id\": 242, \"character\": \"Jake Sully\", \"...   \n",
       "\n",
       "                                                crew  \n",
       "0  [{\"credit_id\": \"52fe48009251416c750aca23\", \"de...  "
      ]
     },
     "execution_count": 132,
     "metadata": {},
     "output_type": "execute_result"
    }
   ],
   "source": [
    "movies.head(1)"
   ]
  },
  {
   "cell_type": "markdown",
   "id": "90743d57-6b51-4e3e-83dd-cc4bc70d0cfb",
   "metadata": {},
   "source": [
    "# ★ Pre Processing"
   ]
  },
  {
   "cell_type": "code",
   "execution_count": 134,
   "id": "4c91bc9b-4fad-496e-a9cf-fd69126299f7",
   "metadata": {},
   "outputs": [
    {
     "data": {
      "text/plain": [
       "id          0\n",
       "title       0\n",
       "genres      0\n",
       "keywords    0\n",
       "overview    3\n",
       "cast        0\n",
       "crew        0\n",
       "dtype: int64"
      ]
     },
     "execution_count": 134,
     "metadata": {},
     "output_type": "execute_result"
    }
   ],
   "source": [
    "movies.isnull().sum()"
   ]
  },
  {
   "cell_type": "code",
   "execution_count": 135,
   "id": "d832883b-a014-4b9f-8c3a-56245cfa22ae",
   "metadata": {},
   "outputs": [
    {
     "data": {
      "text/plain": [
       "id          0\n",
       "title       0\n",
       "genres      0\n",
       "keywords    0\n",
       "overview    0\n",
       "cast        0\n",
       "crew        0\n",
       "dtype: int64"
      ]
     },
     "execution_count": 135,
     "metadata": {},
     "output_type": "execute_result"
    }
   ],
   "source": [
    "movies.dropna(inplace=True)\n",
    "\n",
    "movies.isnull().sum()"
   ]
  },
  {
   "cell_type": "code",
   "execution_count": 136,
   "id": "1b41f96d-3ada-410a-af72-f9ef72f6f1e4",
   "metadata": {},
   "outputs": [
    {
     "data": {
      "text/plain": [
       "0"
      ]
     },
     "execution_count": 136,
     "metadata": {},
     "output_type": "execute_result"
    }
   ],
   "source": [
    "movies.duplicated().sum()"
   ]
  },
  {
   "cell_type": "markdown",
   "id": "64ddca82-42ee-4be0-8523-0896d4bf02e7",
   "metadata": {},
   "source": [
    "### ✤ T͟h͟o͟u͟g͟h͟t͟ P͟r͟o͟c͟e͟s͟s͟:\n",
    "1. We will create a collection of strings (we'll call it '𝐭𝐚𝐠𝐬') for each movie out of the 'genres', 'keywords', 'overview', 'cast', and 'crew'\n",
    "2. Except 'overview', all other columns are a list of dictionary. Since it is not easy to work with this format, we will first convert them in a list of strings that are necessary to create 'tags'\n",
    "3. For this, we will create a helper function 𝐜𝐨𝐧𝐯𝐞𝐫𝐭() that will serve the purpose"
   ]
  },
  {
   "cell_type": "markdown",
   "id": "2994221d-8e3a-44a7-9eb2-a606488fd1fc",
   "metadata": {},
   "source": [
    "##### Let's create the convert() function first"
   ]
  },
  {
   "cell_type": "code",
   "execution_count": 139,
   "id": "19906e38-a03c-4e54-a455-b28142dc5987",
   "metadata": {},
   "outputs": [],
   "source": [
    "import ast\n",
    "def convert(obj):\n",
    "    L = []\n",
    "    for i in ast.literal_eval(obj):\n",
    "        L.append(i['name'])\n",
    "    return L"
   ]
  },
  {
   "cell_type": "markdown",
   "id": "d9e9a026-e607-44dc-bd7a-e1bf1edaaf7a",
   "metadata": {},
   "source": [
    "##### Converting 'genres'"
   ]
  },
  {
   "cell_type": "code",
   "execution_count": 141,
   "id": "d4b7805b-9863-4c28-bd75-a64fe03431ff",
   "metadata": {},
   "outputs": [
    {
     "data": {
      "text/plain": [
       "'[{\"id\": 28, \"name\": \"Action\"}, {\"id\": 12, \"name\": \"Adventure\"}, {\"id\": 14, \"name\": \"Fantasy\"}, {\"id\": 878, \"name\": \"Science Fiction\"}]'"
      ]
     },
     "execution_count": 141,
     "metadata": {},
     "output_type": "execute_result"
    }
   ],
   "source": [
    "movies['genres'].iloc[0]"
   ]
  },
  {
   "cell_type": "code",
   "execution_count": 142,
   "id": "faaa7216-d36d-47d6-bdcd-620b4a7ef6c4",
   "metadata": {},
   "outputs": [
    {
     "data": {
      "text/plain": [
       "0       [Action, Adventure, Fantasy, Science Fiction]\n",
       "1                        [Adventure, Fantasy, Action]\n",
       "2                          [Action, Adventure, Crime]\n",
       "3                    [Action, Crime, Drama, Thriller]\n",
       "4                [Action, Adventure, Science Fiction]\n",
       "                            ...                      \n",
       "4804                        [Action, Crime, Thriller]\n",
       "4805                                [Comedy, Romance]\n",
       "4806               [Comedy, Drama, Romance, TV Movie]\n",
       "4807                                               []\n",
       "4808                                    [Documentary]\n",
       "Name: genres, Length: 4806, dtype: object"
      ]
     },
     "execution_count": 142,
     "metadata": {},
     "output_type": "execute_result"
    }
   ],
   "source": [
    "movies['genres'] = movies['genres'].apply(convert)\n",
    "\n",
    "movies['genres']"
   ]
  },
  {
   "cell_type": "markdown",
   "id": "0d774c5a-ec2a-4ad5-802f-9bcb4c12cb1a",
   "metadata": {},
   "source": [
    "##### Converting 'keywords'"
   ]
  },
  {
   "cell_type": "code",
   "execution_count": 144,
   "id": "421990fa-445c-4b39-976c-8db6108effcd",
   "metadata": {},
   "outputs": [
    {
     "data": {
      "text/plain": [
       "0       [culture clash, future, space war, space colon...\n",
       "1       [ocean, drug abuse, exotic island, east india ...\n",
       "2       [spy, based on novel, secret agent, sequel, mi...\n",
       "3       [dc comics, crime fighter, terrorist, secret i...\n",
       "4       [based on novel, mars, medallion, space travel...\n",
       "                              ...                        \n",
       "4804    [united states–mexico barrier, legs, arms, pap...\n",
       "4805                                                   []\n",
       "4806    [date, love at first sight, narration, investi...\n",
       "4807                                                   []\n",
       "4808            [obsession, camcorder, crush, dream girl]\n",
       "Name: keywords, Length: 4806, dtype: object"
      ]
     },
     "execution_count": 144,
     "metadata": {},
     "output_type": "execute_result"
    }
   ],
   "source": [
    "movies['keywords'] = movies['keywords'].apply(convert)\n",
    "\n",
    "movies['keywords']"
   ]
  },
  {
   "cell_type": "markdown",
   "id": "58633556-6a82-44bb-9a7f-9405e51c1505",
   "metadata": {},
   "source": [
    "##### Converting 'cast':\n",
    "From the 'cast' data, we will extract only the original names of the first three cast. Later casts are not that much important for recommendation."
   ]
  },
  {
   "cell_type": "markdown",
   "id": "810080e8-25b8-45dc-9f80-389f40c975c8",
   "metadata": {},
   "source": [
    "##### Let's create convert_cast() function"
   ]
  },
  {
   "cell_type": "code",
   "execution_count": 147,
   "id": "89153b63-4ffe-4777-84b8-e91b205dd2e1",
   "metadata": {},
   "outputs": [],
   "source": [
    "def convert_cast(obj):\n",
    "    L = []\n",
    "    count = 0\n",
    "    for i in ast.literal_eval(obj):\n",
    "        if count !=3:\n",
    "            L.append(i['name'])\n",
    "            count+=1\n",
    "        else:\n",
    "            break\n",
    "    return L"
   ]
  },
  {
   "cell_type": "code",
   "execution_count": 148,
   "id": "a6ebe6b0-22b3-4054-ace5-f93f4f4843d1",
   "metadata": {},
   "outputs": [
    {
     "data": {
      "text/plain": [
       "0        [Sam Worthington, Zoe Saldana, Sigourney Weaver]\n",
       "1           [Johnny Depp, Orlando Bloom, Keira Knightley]\n",
       "2            [Daniel Craig, Christoph Waltz, Léa Seydoux]\n",
       "3            [Christian Bale, Michael Caine, Gary Oldman]\n",
       "4          [Taylor Kitsch, Lynn Collins, Samantha Morton]\n",
       "                              ...                        \n",
       "4804    [Carlos Gallardo, Jaime de Hoyos, Peter Marqua...\n",
       "4805         [Edward Burns, Kerry Bishé, Marsha Dietlein]\n",
       "4806           [Eric Mabius, Kristin Booth, Crystal Lowe]\n",
       "4807            [Daniel Henney, Eliza Coupe, Bill Paxton]\n",
       "4808    [Drew Barrymore, Brian Herzlinger, Corey Feldman]\n",
       "Name: cast, Length: 4806, dtype: object"
      ]
     },
     "execution_count": 148,
     "metadata": {},
     "output_type": "execute_result"
    }
   ],
   "source": [
    "movies['cast'] = movies['cast'].apply(convert_cast)\n",
    "\n",
    "movies['cast']"
   ]
  },
  {
   "cell_type": "markdown",
   "id": "2bd8fa4f-c246-4751-9770-548e083f9731",
   "metadata": {},
   "source": [
    "##### Converting 'crew':\n",
    "From the 'crew' data, we will extract only the director's names."
   ]
  },
  {
   "cell_type": "markdown",
   "id": "aa65e7da-6120-4558-8ab9-bf5d2297c8b5",
   "metadata": {},
   "source": [
    "##### Let's create convert_crew() function"
   ]
  },
  {
   "cell_type": "code",
   "execution_count": 151,
   "id": "cfd74bb0-67e5-4f3a-b36e-54ab2c2ddae3",
   "metadata": {},
   "outputs": [],
   "source": [
    "def convert_crew(obj):\n",
    "    L = []\n",
    "    for i in ast.literal_eval(obj):\n",
    "        if i['job']=='Director':\n",
    "            L.append(i['name']) \n",
    "            break\n",
    "    return L"
   ]
  },
  {
   "cell_type": "code",
   "execution_count": 152,
   "id": "11f64e06-149c-4348-ab78-c3bb1fe494c5",
   "metadata": {},
   "outputs": [
    {
     "data": {
      "text/plain": [
       "0           [James Cameron]\n",
       "1          [Gore Verbinski]\n",
       "2              [Sam Mendes]\n",
       "3       [Christopher Nolan]\n",
       "4          [Andrew Stanton]\n",
       "               ...         \n",
       "4804     [Robert Rodriguez]\n",
       "4805         [Edward Burns]\n",
       "4806          [Scott Smith]\n",
       "4807          [Daniel Hsia]\n",
       "4808     [Brian Herzlinger]\n",
       "Name: crew, Length: 4806, dtype: object"
      ]
     },
     "execution_count": 152,
     "metadata": {},
     "output_type": "execute_result"
    }
   ],
   "source": [
    "movies['crew'] = movies['crew'].apply(convert_crew)\n",
    "\n",
    "movies['crew']"
   ]
  },
  {
   "cell_type": "markdown",
   "id": "6c2e46fc-35bf-403a-9421-d7df04ab4372",
   "metadata": {},
   "source": [
    "##### Convert 'overview'\n",
    "We will convert the paragraph of 'overview' into a list of strings"
   ]
  },
  {
   "cell_type": "code",
   "execution_count": 154,
   "id": "ee6ef8be-bad8-42db-a97b-e2158ac6c8a1",
   "metadata": {},
   "outputs": [
    {
     "data": {
      "text/plain": [
       "'In the 22nd century, a paraplegic Marine is dispatched to the moon Pandora on a unique mission, but becomes torn between following orders and protecting an alien civilization.'"
      ]
     },
     "execution_count": 154,
     "metadata": {},
     "output_type": "execute_result"
    }
   ],
   "source": [
    "movies['overview'][0]"
   ]
  },
  {
   "cell_type": "code",
   "execution_count": 155,
   "id": "e7b2bac9-fc44-4b48-a58c-4e1f975c9f03",
   "metadata": {},
   "outputs": [
    {
     "data": {
      "text/html": [
       "<div>\n",
       "<style scoped>\n",
       "    .dataframe tbody tr th:only-of-type {\n",
       "        vertical-align: middle;\n",
       "    }\n",
       "\n",
       "    .dataframe tbody tr th {\n",
       "        vertical-align: top;\n",
       "    }\n",
       "\n",
       "    .dataframe thead th {\n",
       "        text-align: right;\n",
       "    }\n",
       "</style>\n",
       "<table border=\"1\" class=\"dataframe\">\n",
       "  <thead>\n",
       "    <tr style=\"text-align: right;\">\n",
       "      <th></th>\n",
       "      <th>id</th>\n",
       "      <th>title</th>\n",
       "      <th>genres</th>\n",
       "      <th>keywords</th>\n",
       "      <th>overview</th>\n",
       "      <th>cast</th>\n",
       "      <th>crew</th>\n",
       "    </tr>\n",
       "  </thead>\n",
       "  <tbody>\n",
       "    <tr>\n",
       "      <th>0</th>\n",
       "      <td>19995</td>\n",
       "      <td>Avatar</td>\n",
       "      <td>[Action, Adventure, Fantasy, Science Fiction]</td>\n",
       "      <td>[culture clash, future, space war, space colon...</td>\n",
       "      <td>[In, the, 22nd, century,, a, paraplegic, Marin...</td>\n",
       "      <td>[Sam Worthington, Zoe Saldana, Sigourney Weaver]</td>\n",
       "      <td>[James Cameron]</td>\n",
       "    </tr>\n",
       "  </tbody>\n",
       "</table>\n",
       "</div>"
      ],
      "text/plain": [
       "      id   title                                         genres  \\\n",
       "0  19995  Avatar  [Action, Adventure, Fantasy, Science Fiction]   \n",
       "\n",
       "                                            keywords  \\\n",
       "0  [culture clash, future, space war, space colon...   \n",
       "\n",
       "                                            overview  \\\n",
       "0  [In, the, 22nd, century,, a, paraplegic, Marin...   \n",
       "\n",
       "                                               cast             crew  \n",
       "0  [Sam Worthington, Zoe Saldana, Sigourney Weaver]  [James Cameron]  "
      ]
     },
     "execution_count": 155,
     "metadata": {},
     "output_type": "execute_result"
    }
   ],
   "source": [
    "movies['overview'] = movies['overview'].apply(lambda x:x.split())\n",
    "movies.head(1)"
   ]
  },
  {
   "cell_type": "markdown",
   "id": "7bdc017d-ac0a-4b54-b891-0f8d2778b5b8",
   "metadata": {},
   "source": [
    "##### Replacing space between two words with an underscore(_)\n",
    "This is necessary otherwise each word of the string will be treated as individual string and our model will confused between Sam Worthington and Sam Mendes!"
   ]
  },
  {
   "cell_type": "code",
   "execution_count": 157,
   "id": "47a26fa8-346f-42dc-b7a3-81f41cde09ce",
   "metadata": {},
   "outputs": [],
   "source": [
    "movies['genres'] = movies['genres'].apply(lambda x:[i.replace(\" \",\"_\") for i in x])\n",
    "movies['keywords'] = movies['keywords'].apply(lambda x:[i.replace(\" \",\"_\") for i in x])\n",
    "movies['overview'] = movies['overview'].apply(lambda x:[i.replace(\" \",\"_\") for i in x])\n",
    "movies['cast'] = movies['cast'].apply(lambda x:[i.replace(\" \",\"_\") for i in x])\n",
    "movies['crew'] = movies['crew'].apply(lambda x:[i.replace(\" \",\"_\") for i in x])"
   ]
  },
  {
   "cell_type": "code",
   "execution_count": 158,
   "id": "f5478775-f8db-453f-aed8-0b64edf5eb31",
   "metadata": {},
   "outputs": [
    {
     "data": {
      "text/html": [
       "<div>\n",
       "<style scoped>\n",
       "    .dataframe tbody tr th:only-of-type {\n",
       "        vertical-align: middle;\n",
       "    }\n",
       "\n",
       "    .dataframe tbody tr th {\n",
       "        vertical-align: top;\n",
       "    }\n",
       "\n",
       "    .dataframe thead th {\n",
       "        text-align: right;\n",
       "    }\n",
       "</style>\n",
       "<table border=\"1\" class=\"dataframe\">\n",
       "  <thead>\n",
       "    <tr style=\"text-align: right;\">\n",
       "      <th></th>\n",
       "      <th>id</th>\n",
       "      <th>title</th>\n",
       "      <th>genres</th>\n",
       "      <th>keywords</th>\n",
       "      <th>overview</th>\n",
       "      <th>cast</th>\n",
       "      <th>crew</th>\n",
       "    </tr>\n",
       "  </thead>\n",
       "  <tbody>\n",
       "    <tr>\n",
       "      <th>0</th>\n",
       "      <td>19995</td>\n",
       "      <td>Avatar</td>\n",
       "      <td>[Action, Adventure, Fantasy, Science_Fiction]</td>\n",
       "      <td>[culture_clash, future, space_war, space_colon...</td>\n",
       "      <td>[In, the, 22nd, century,, a, paraplegic, Marin...</td>\n",
       "      <td>[Sam_Worthington, Zoe_Saldana, Sigourney_Weaver]</td>\n",
       "      <td>[James_Cameron]</td>\n",
       "    </tr>\n",
       "    <tr>\n",
       "      <th>1</th>\n",
       "      <td>285</td>\n",
       "      <td>Pirates of the Caribbean: At World's End</td>\n",
       "      <td>[Adventure, Fantasy, Action]</td>\n",
       "      <td>[ocean, drug_abuse, exotic_island, east_india_...</td>\n",
       "      <td>[Captain, Barbossa,, long, believed, to, be, d...</td>\n",
       "      <td>[Johnny_Depp, Orlando_Bloom, Keira_Knightley]</td>\n",
       "      <td>[Gore_Verbinski]</td>\n",
       "    </tr>\n",
       "    <tr>\n",
       "      <th>2</th>\n",
       "      <td>206647</td>\n",
       "      <td>Spectre</td>\n",
       "      <td>[Action, Adventure, Crime]</td>\n",
       "      <td>[spy, based_on_novel, secret_agent, sequel, mi...</td>\n",
       "      <td>[A, cryptic, message, from, Bond’s, past, send...</td>\n",
       "      <td>[Daniel_Craig, Christoph_Waltz, Léa_Seydoux]</td>\n",
       "      <td>[Sam_Mendes]</td>\n",
       "    </tr>\n",
       "    <tr>\n",
       "      <th>3</th>\n",
       "      <td>49026</td>\n",
       "      <td>The Dark Knight Rises</td>\n",
       "      <td>[Action, Crime, Drama, Thriller]</td>\n",
       "      <td>[dc_comics, crime_fighter, terrorist, secret_i...</td>\n",
       "      <td>[Following, the, death, of, District, Attorney...</td>\n",
       "      <td>[Christian_Bale, Michael_Caine, Gary_Oldman]</td>\n",
       "      <td>[Christopher_Nolan]</td>\n",
       "    </tr>\n",
       "    <tr>\n",
       "      <th>4</th>\n",
       "      <td>49529</td>\n",
       "      <td>John Carter</td>\n",
       "      <td>[Action, Adventure, Science_Fiction]</td>\n",
       "      <td>[based_on_novel, mars, medallion, space_travel...</td>\n",
       "      <td>[John, Carter, is, a, war-weary,, former, mili...</td>\n",
       "      <td>[Taylor_Kitsch, Lynn_Collins, Samantha_Morton]</td>\n",
       "      <td>[Andrew_Stanton]</td>\n",
       "    </tr>\n",
       "  </tbody>\n",
       "</table>\n",
       "</div>"
      ],
      "text/plain": [
       "       id                                     title  \\\n",
       "0   19995                                    Avatar   \n",
       "1     285  Pirates of the Caribbean: At World's End   \n",
       "2  206647                                   Spectre   \n",
       "3   49026                     The Dark Knight Rises   \n",
       "4   49529                               John Carter   \n",
       "\n",
       "                                          genres  \\\n",
       "0  [Action, Adventure, Fantasy, Science_Fiction]   \n",
       "1                   [Adventure, Fantasy, Action]   \n",
       "2                     [Action, Adventure, Crime]   \n",
       "3               [Action, Crime, Drama, Thriller]   \n",
       "4           [Action, Adventure, Science_Fiction]   \n",
       "\n",
       "                                            keywords  \\\n",
       "0  [culture_clash, future, space_war, space_colon...   \n",
       "1  [ocean, drug_abuse, exotic_island, east_india_...   \n",
       "2  [spy, based_on_novel, secret_agent, sequel, mi...   \n",
       "3  [dc_comics, crime_fighter, terrorist, secret_i...   \n",
       "4  [based_on_novel, mars, medallion, space_travel...   \n",
       "\n",
       "                                            overview  \\\n",
       "0  [In, the, 22nd, century,, a, paraplegic, Marin...   \n",
       "1  [Captain, Barbossa,, long, believed, to, be, d...   \n",
       "2  [A, cryptic, message, from, Bond’s, past, send...   \n",
       "3  [Following, the, death, of, District, Attorney...   \n",
       "4  [John, Carter, is, a, war-weary,, former, mili...   \n",
       "\n",
       "                                               cast                 crew  \n",
       "0  [Sam_Worthington, Zoe_Saldana, Sigourney_Weaver]      [James_Cameron]  \n",
       "1     [Johnny_Depp, Orlando_Bloom, Keira_Knightley]     [Gore_Verbinski]  \n",
       "2      [Daniel_Craig, Christoph_Waltz, Léa_Seydoux]         [Sam_Mendes]  \n",
       "3      [Christian_Bale, Michael_Caine, Gary_Oldman]  [Christopher_Nolan]  \n",
       "4    [Taylor_Kitsch, Lynn_Collins, Samantha_Morton]     [Andrew_Stanton]  "
      ]
     },
     "execution_count": 158,
     "metadata": {},
     "output_type": "execute_result"
    }
   ],
   "source": [
    "movies.head()"
   ]
  },
  {
   "cell_type": "markdown",
   "id": "cb29acec-c4f3-451d-9d24-8ee97ed8eecb",
   "metadata": {},
   "source": [
    "##### Generating Tags\n",
    "We will create 'tags' for each movie by concatenating all the strings in each column except id and title"
   ]
  },
  {
   "cell_type": "code",
   "execution_count": 160,
   "id": "147970cf-33d8-4518-919c-d91ffe01cfff",
   "metadata": {},
   "outputs": [
    {
     "data": {
      "text/html": [
       "<div>\n",
       "<style scoped>\n",
       "    .dataframe tbody tr th:only-of-type {\n",
       "        vertical-align: middle;\n",
       "    }\n",
       "\n",
       "    .dataframe tbody tr th {\n",
       "        vertical-align: top;\n",
       "    }\n",
       "\n",
       "    .dataframe thead th {\n",
       "        text-align: right;\n",
       "    }\n",
       "</style>\n",
       "<table border=\"1\" class=\"dataframe\">\n",
       "  <thead>\n",
       "    <tr style=\"text-align: right;\">\n",
       "      <th></th>\n",
       "      <th>id</th>\n",
       "      <th>title</th>\n",
       "      <th>genres</th>\n",
       "      <th>keywords</th>\n",
       "      <th>overview</th>\n",
       "      <th>cast</th>\n",
       "      <th>crew</th>\n",
       "      <th>tags</th>\n",
       "    </tr>\n",
       "  </thead>\n",
       "  <tbody>\n",
       "    <tr>\n",
       "      <th>0</th>\n",
       "      <td>19995</td>\n",
       "      <td>Avatar</td>\n",
       "      <td>[Action, Adventure, Fantasy, Science_Fiction]</td>\n",
       "      <td>[culture_clash, future, space_war, space_colon...</td>\n",
       "      <td>[In, the, 22nd, century,, a, paraplegic, Marin...</td>\n",
       "      <td>[Sam_Worthington, Zoe_Saldana, Sigourney_Weaver]</td>\n",
       "      <td>[James_Cameron]</td>\n",
       "      <td>[Action, Adventure, Fantasy, Science_Fiction, ...</td>\n",
       "    </tr>\n",
       "    <tr>\n",
       "      <th>1</th>\n",
       "      <td>285</td>\n",
       "      <td>Pirates of the Caribbean: At World's End</td>\n",
       "      <td>[Adventure, Fantasy, Action]</td>\n",
       "      <td>[ocean, drug_abuse, exotic_island, east_india_...</td>\n",
       "      <td>[Captain, Barbossa,, long, believed, to, be, d...</td>\n",
       "      <td>[Johnny_Depp, Orlando_Bloom, Keira_Knightley]</td>\n",
       "      <td>[Gore_Verbinski]</td>\n",
       "      <td>[Adventure, Fantasy, Action, ocean, drug_abuse...</td>\n",
       "    </tr>\n",
       "    <tr>\n",
       "      <th>2</th>\n",
       "      <td>206647</td>\n",
       "      <td>Spectre</td>\n",
       "      <td>[Action, Adventure, Crime]</td>\n",
       "      <td>[spy, based_on_novel, secret_agent, sequel, mi...</td>\n",
       "      <td>[A, cryptic, message, from, Bond’s, past, send...</td>\n",
       "      <td>[Daniel_Craig, Christoph_Waltz, Léa_Seydoux]</td>\n",
       "      <td>[Sam_Mendes]</td>\n",
       "      <td>[Action, Adventure, Crime, spy, based_on_novel...</td>\n",
       "    </tr>\n",
       "    <tr>\n",
       "      <th>3</th>\n",
       "      <td>49026</td>\n",
       "      <td>The Dark Knight Rises</td>\n",
       "      <td>[Action, Crime, Drama, Thriller]</td>\n",
       "      <td>[dc_comics, crime_fighter, terrorist, secret_i...</td>\n",
       "      <td>[Following, the, death, of, District, Attorney...</td>\n",
       "      <td>[Christian_Bale, Michael_Caine, Gary_Oldman]</td>\n",
       "      <td>[Christopher_Nolan]</td>\n",
       "      <td>[Action, Crime, Drama, Thriller, dc_comics, cr...</td>\n",
       "    </tr>\n",
       "    <tr>\n",
       "      <th>4</th>\n",
       "      <td>49529</td>\n",
       "      <td>John Carter</td>\n",
       "      <td>[Action, Adventure, Science_Fiction]</td>\n",
       "      <td>[based_on_novel, mars, medallion, space_travel...</td>\n",
       "      <td>[John, Carter, is, a, war-weary,, former, mili...</td>\n",
       "      <td>[Taylor_Kitsch, Lynn_Collins, Samantha_Morton]</td>\n",
       "      <td>[Andrew_Stanton]</td>\n",
       "      <td>[Action, Adventure, Science_Fiction, based_on_...</td>\n",
       "    </tr>\n",
       "  </tbody>\n",
       "</table>\n",
       "</div>"
      ],
      "text/plain": [
       "       id                                     title  \\\n",
       "0   19995                                    Avatar   \n",
       "1     285  Pirates of the Caribbean: At World's End   \n",
       "2  206647                                   Spectre   \n",
       "3   49026                     The Dark Knight Rises   \n",
       "4   49529                               John Carter   \n",
       "\n",
       "                                          genres  \\\n",
       "0  [Action, Adventure, Fantasy, Science_Fiction]   \n",
       "1                   [Adventure, Fantasy, Action]   \n",
       "2                     [Action, Adventure, Crime]   \n",
       "3               [Action, Crime, Drama, Thriller]   \n",
       "4           [Action, Adventure, Science_Fiction]   \n",
       "\n",
       "                                            keywords  \\\n",
       "0  [culture_clash, future, space_war, space_colon...   \n",
       "1  [ocean, drug_abuse, exotic_island, east_india_...   \n",
       "2  [spy, based_on_novel, secret_agent, sequel, mi...   \n",
       "3  [dc_comics, crime_fighter, terrorist, secret_i...   \n",
       "4  [based_on_novel, mars, medallion, space_travel...   \n",
       "\n",
       "                                            overview  \\\n",
       "0  [In, the, 22nd, century,, a, paraplegic, Marin...   \n",
       "1  [Captain, Barbossa,, long, believed, to, be, d...   \n",
       "2  [A, cryptic, message, from, Bond’s, past, send...   \n",
       "3  [Following, the, death, of, District, Attorney...   \n",
       "4  [John, Carter, is, a, war-weary,, former, mili...   \n",
       "\n",
       "                                               cast                 crew  \\\n",
       "0  [Sam_Worthington, Zoe_Saldana, Sigourney_Weaver]      [James_Cameron]   \n",
       "1     [Johnny_Depp, Orlando_Bloom, Keira_Knightley]     [Gore_Verbinski]   \n",
       "2      [Daniel_Craig, Christoph_Waltz, Léa_Seydoux]         [Sam_Mendes]   \n",
       "3      [Christian_Bale, Michael_Caine, Gary_Oldman]  [Christopher_Nolan]   \n",
       "4    [Taylor_Kitsch, Lynn_Collins, Samantha_Morton]     [Andrew_Stanton]   \n",
       "\n",
       "                                                tags  \n",
       "0  [Action, Adventure, Fantasy, Science_Fiction, ...  \n",
       "1  [Adventure, Fantasy, Action, ocean, drug_abuse...  \n",
       "2  [Action, Adventure, Crime, spy, based_on_novel...  \n",
       "3  [Action, Crime, Drama, Thriller, dc_comics, cr...  \n",
       "4  [Action, Adventure, Science_Fiction, based_on_...  "
      ]
     },
     "execution_count": 160,
     "metadata": {},
     "output_type": "execute_result"
    }
   ],
   "source": [
    "movies['tags'] = movies['genres'] + movies['keywords'] + movies['overview'] + movies['cast'] + movies['crew']\n",
    "\n",
    "movies.head()"
   ]
  },
  {
   "cell_type": "markdown",
   "id": "1fd9e5de-b4ea-404f-8563-fc3ddb9b411c",
   "metadata": {},
   "source": [
    "#####  ✦ Now we can remove other columns except id, title, and tags and convert the list of strings in tags into a long string with all lowercase letters"
   ]
  },
  {
   "cell_type": "code",
   "execution_count": 162,
   "id": "e83ae085-e9d3-4ab0-a7c3-b7bbc9f7fc3d",
   "metadata": {},
   "outputs": [],
   "source": [
    "# Converting tags into a long string\n",
    "movies['tags'] = movies['tags'].apply(lambda x:\" \".join(x))\n",
    "\n",
    "# Converting all letters into lowercase\n",
    "movies['tags'] = movies['tags'].apply(lambda x:x.lower())\n",
    "\n",
    "# Keeping only id, title, and tags and create a new dataframe\n",
    "df = movies[['id','title','tags']]"
   ]
  },
  {
   "cell_type": "code",
   "execution_count": 163,
   "id": "e3226322-a4fc-425a-a6df-4e068253ee73",
   "metadata": {},
   "outputs": [
    {
     "data": {
      "text/html": [
       "<div>\n",
       "<style scoped>\n",
       "    .dataframe tbody tr th:only-of-type {\n",
       "        vertical-align: middle;\n",
       "    }\n",
       "\n",
       "    .dataframe tbody tr th {\n",
       "        vertical-align: top;\n",
       "    }\n",
       "\n",
       "    .dataframe thead th {\n",
       "        text-align: right;\n",
       "    }\n",
       "</style>\n",
       "<table border=\"1\" class=\"dataframe\">\n",
       "  <thead>\n",
       "    <tr style=\"text-align: right;\">\n",
       "      <th></th>\n",
       "      <th>id</th>\n",
       "      <th>title</th>\n",
       "      <th>tags</th>\n",
       "    </tr>\n",
       "  </thead>\n",
       "  <tbody>\n",
       "    <tr>\n",
       "      <th>0</th>\n",
       "      <td>19995</td>\n",
       "      <td>Avatar</td>\n",
       "      <td>action adventure fantasy science_fiction cultu...</td>\n",
       "    </tr>\n",
       "    <tr>\n",
       "      <th>1</th>\n",
       "      <td>285</td>\n",
       "      <td>Pirates of the Caribbean: At World's End</td>\n",
       "      <td>adventure fantasy action ocean drug_abuse exot...</td>\n",
       "    </tr>\n",
       "    <tr>\n",
       "      <th>2</th>\n",
       "      <td>206647</td>\n",
       "      <td>Spectre</td>\n",
       "      <td>action adventure crime spy based_on_novel secr...</td>\n",
       "    </tr>\n",
       "    <tr>\n",
       "      <th>3</th>\n",
       "      <td>49026</td>\n",
       "      <td>The Dark Knight Rises</td>\n",
       "      <td>action crime drama thriller dc_comics crime_fi...</td>\n",
       "    </tr>\n",
       "    <tr>\n",
       "      <th>4</th>\n",
       "      <td>49529</td>\n",
       "      <td>John Carter</td>\n",
       "      <td>action adventure science_fiction based_on_nove...</td>\n",
       "    </tr>\n",
       "  </tbody>\n",
       "</table>\n",
       "</div>"
      ],
      "text/plain": [
       "       id                                     title  \\\n",
       "0   19995                                    Avatar   \n",
       "1     285  Pirates of the Caribbean: At World's End   \n",
       "2  206647                                   Spectre   \n",
       "3   49026                     The Dark Knight Rises   \n",
       "4   49529                               John Carter   \n",
       "\n",
       "                                                tags  \n",
       "0  action adventure fantasy science_fiction cultu...  \n",
       "1  adventure fantasy action ocean drug_abuse exot...  \n",
       "2  action adventure crime spy based_on_novel secr...  \n",
       "3  action crime drama thriller dc_comics crime_fi...  \n",
       "4  action adventure science_fiction based_on_nove...  "
      ]
     },
     "execution_count": 163,
     "metadata": {},
     "output_type": "execute_result"
    }
   ],
   "source": [
    "df.head()"
   ]
  },
  {
   "cell_type": "markdown",
   "id": "7b9b1fc1-6d51-4881-ae06-4f0ff7dcb6ba",
   "metadata": {},
   "source": [
    "#### ✤ Now we apply stemming to the words of the tags\n",
    "'Stemming' refers to the process of reducing words to their root or base form by removing suffixes. For instance, stemming would reduce 'running', 'runs', and 'ran' to the stem 'run'. The primary goal of stemming is to improve the efficiency and effectiveness of text analysis tasks by treating different variations of a word as the same entity."
   ]
  },
  {
   "cell_type": "code",
   "execution_count": 165,
   "id": "743afbe2-fff3-48c4-8012-f9668a401ac4",
   "metadata": {},
   "outputs": [],
   "source": [
    "import nltk\n",
    "from nltk.stem.porter import PorterStemmer\n",
    "ps = PorterStemmer()"
   ]
  },
  {
   "cell_type": "code",
   "execution_count": 166,
   "id": "9617f2e1-8762-4a66-8979-27f3b6ad5307",
   "metadata": {},
   "outputs": [],
   "source": [
    "def stem_tags(text):\n",
    "    y = []\n",
    "    for i in text.split():\n",
    "        y.append(ps.stem(i))\n",
    "    return \" \".join(y)    "
   ]
  },
  {
   "cell_type": "code",
   "execution_count": 206,
   "id": "2ba1a9b9-6fd5-412f-8770-83a1867df3f7",
   "metadata": {},
   "outputs": [],
   "source": [
    "df = df.copy()  # Avoid Setting_With_Copy Warning\n",
    "df['tags'] = df['tags'].apply(stem_tags)"
   ]
  },
  {
   "cell_type": "code",
   "execution_count": 210,
   "id": "eed32e82-a257-4283-a5b0-3e79e31f7a78",
   "metadata": {},
   "outputs": [
    {
     "data": {
      "text/plain": [
       "'action adventur fantasi science_fict culture_clash futur space_war space_coloni societi space_travel futurist romanc space alien tribe alien_planet cgi marin soldier battl love_affair anti_war power_rel mind_and_soul 3d in the 22nd century, a parapleg marin is dispatch to the moon pandora on a uniqu mission, but becom torn between follow order and protect an alien civilization. sam_worthington zoe_saldana sigourney_weav james_cameron'"
      ]
     },
     "execution_count": 210,
     "metadata": {},
     "output_type": "execute_result"
    }
   ],
   "source": [
    "# Checking whether it is working or not\n",
    "df['tags'][0]"
   ]
  },
  {
   "cell_type": "markdown",
   "id": "d4cde842-3958-4026-8f29-83aaa3aa2b23",
   "metadata": {},
   "source": [
    "#### -------------------------------OUR PRE PROCESSING IS DONE------------------------------\n",
    "<br>"
   ]
  },
  {
   "cell_type": "markdown",
   "id": "bf6ae03c-c0fc-4e74-bd38-4c0b74cfa321",
   "metadata": {},
   "source": [
    "# ★ Model Building"
   ]
  },
  {
   "cell_type": "markdown",
   "id": "46a5308e-02eb-47e9-8336-269d4057577b",
   "metadata": {},
   "source": [
    "#### ✤ V͟e͟c͟t͟o͟r͟i͟z͟e͟ t͟a͟g͟s͟ u͟s͟i͟n͟g͟ B͟o͟W͟ :\n",
    "Text vectorization is the process of converting text into numerical representations so that machine learning models can understand and process it. Here are several different ways to vectorize text like:\n",
    "<br>\n",
    "𝟏. 𝐁𝐚𝐠 𝐨𝐟 𝐖𝐨𝐫𝐝𝐬 (𝐁𝐨𝐖): Counts how many times each word appears in the text.\n",
    "<br>\n",
    "𝟐. 𝐖𝐨𝐫𝐝𝟐𝐕𝐞𝐜: Convert words into dense vectors that capture semantic meaning. \n",
    "<br>\n",
    "𝟑.𝐓𝐅-𝐈𝐃𝐅 (𝐓𝐞𝐫𝐦 𝐅𝐫𝐞𝐪𝐮𝐞𝐧𝐜𝐲-𝐈𝐧𝐯𝐞𝐫𝐬𝐞 𝐃𝐨𝐜𝐮𝐦𝐞𝐧𝐭 𝐅𝐫𝐞𝐪𝐮𝐞𝐧𝐜𝐲): Weighs the frequency of a word by how rare it is across documents.\n",
    "\n"
   ]
  },
  {
   "cell_type": "code",
   "execution_count": 243,
   "id": "d4da7908-e348-4d96-a96a-b563a5de87b5",
   "metadata": {},
   "outputs": [],
   "source": [
    "from sklearn.feature_extraction.text import CountVectorizer\n",
    "cv = CountVectorizer(max_features=5000, stop_words='english')"
   ]
  },
  {
   "cell_type": "code",
   "execution_count": null,
   "id": "9ac8244c-7b6e-4a71-9b7b-ce52056bd438",
   "metadata": {},
   "outputs": [],
   "source": [
    "vectors = cv.fit_transform(df['tags']).toarray()\n",
    "\n",
    "vectors"
   ]
  },
  {
   "cell_type": "markdown",
   "id": "d8170882-0f79-4b44-be6e-508c9878fcf5",
   "metadata": {},
   "source": [
    "###### ➤  Since the tag of a movie consists much less words than 5000, we are getting so many 0's in vectors"
   ]
  },
  {
   "cell_type": "markdown",
   "id": "e54be44e-4150-4d1c-9c87-dab6c371b7ac",
   "metadata": {},
   "source": [
    "#### ✤ Finding Cosine Similarity Between Vectors\n",
    "Distance is a measure of similarity. The more the distance between two vectors, the less will be the similarity between those two movies. \n",
    "<br>\n",
    "Now, instead of Eucleadian distance, we will use cosine distance because the large dimension (5000). Eucleadian distance does not work well for large dimension. It is called the '𝐜𝐮𝐫𝐬𝐞 𝐨𝐟 𝐝𝐢𝐦𝐞𝐧𝐬𝐢𝐨𝐧𝐚𝐥𝐢𝐭𝐲'"
   ]
  },
  {
   "cell_type": "code",
   "execution_count": 308,
   "id": "e2920fa5-cebc-447d-a827-f9c8d0a60641",
   "metadata": {},
   "outputs": [],
   "source": [
    "from sklearn.metrics.pairwise import cosine_similarity\n",
    "similarity = cosine_similarity(vectors)"
   ]
  },
  {
   "cell_type": "markdown",
   "id": "68ac102f-faaf-42b8-9f93-a4d0afe32861",
   "metadata": {},
   "source": [
    "###### ➤ Note that cosine_similarity is the reciprocal of the cosine_distance and its value ranges between 0 and 1"
   ]
  },
  {
   "cell_type": "markdown",
   "id": "5979cb18-2fa6-412d-bf94-510ef6d082e0",
   "metadata": {},
   "source": [
    "#### Recommending top 5 movies with respect to any movies"
   ]
  },
  {
   "cell_type": "code",
   "execution_count": 314,
   "id": "37108017-6671-463b-ab72-deae6e22294c",
   "metadata": {},
   "outputs": [],
   "source": [
    "def recommend(movie):\n",
    "    movie_index = df[df['title'] == movie].index[0]\n",
    "    similarity_index = similarity[movie_index]\n",
    "    five_recommended_movies_list = sorted(list(enumerate(similarity_index)), reverse=True, key=lambda x:x[1])[1:6]\n",
    "\n",
    "    for i in five_recommended_movies_list:\n",
    "        print(df.iloc[i[0]].title)"
   ]
  },
  {
   "cell_type": "code",
   "execution_count": 316,
   "id": "fdecb789-6010-435e-b83a-5f8836817015",
   "metadata": {},
   "outputs": [
    {
     "name": "stdout",
     "output_type": "stream",
     "text": [
      "Aliens vs Predator: Requiem\n",
      "Aliens\n",
      "Falcon Rising\n",
      "Independence Day\n",
      "Titan A.E.\n"
     ]
    }
   ],
   "source": [
    "recommend('Avatar')"
   ]
  },
  {
   "cell_type": "code",
   "execution_count": null,
   "id": "8035a48a-2b00-4c93-92b8-47f945a52fb9",
   "metadata": {},
   "outputs": [],
   "source": [
    "import pickle\n",
    "\n",
    "pickle.dump(df.to_dict(),open('movie_dict.pkl','wb'))\n",
    "\n",
    "pickle.dump(similarity,open('similarity.pkl','wb'))"
   ]
  },
  {
   "cell_type": "code",
   "execution_count": null,
   "id": "253e8605-66c9-4bf3-9a8a-8fed1259bb44",
   "metadata": {},
   "outputs": [],
   "source": []
  }
 ],
 "metadata": {
  "kernelspec": {
   "display_name": "Python [conda env:base] *",
   "language": "python",
   "name": "conda-base-py"
  },
  "language_info": {
   "codemirror_mode": {
    "name": "ipython",
    "version": 3
   },
   "file_extension": ".py",
   "mimetype": "text/x-python",
   "name": "python",
   "nbconvert_exporter": "python",
   "pygments_lexer": "ipython3",
   "version": "3.12.7"
  }
 },
 "nbformat": 4,
 "nbformat_minor": 5
}
